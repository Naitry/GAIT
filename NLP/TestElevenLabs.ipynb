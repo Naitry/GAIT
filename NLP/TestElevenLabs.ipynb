{
 "cells": [
  {
   "cell_type": "code",
   "execution_count": 1,
   "id": "initial_id",
   "metadata": {
    "collapsed": true,
    "ExecuteTime": {
     "end_time": "2023-11-02T18:33:29.149147357Z",
     "start_time": "2023-11-02T18:33:28.673091880Z"
    }
   },
   "outputs": [
    {
     "ename": "ModuleNotFoundError",
     "evalue": "No module named 'whisper'",
     "output_type": "error",
     "traceback": [
      "\u001B[0;31m---------------------------------------------------------------------------\u001B[0m",
      "\u001B[0;31mModuleNotFoundError\u001B[0m                       Traceback (most recent call last)",
      "Cell \u001B[0;32mIn[1], line 2\u001B[0m\n\u001B[1;32m      1\u001B[0m \u001B[38;5;28;01mfrom\u001B[39;00m \u001B[38;5;21;01melevenlabs\u001B[39;00m \u001B[38;5;28;01mimport\u001B[39;00m generate, stream\n\u001B[0;32m----> 2\u001B[0m \u001B[38;5;28;01mimport\u001B[39;00m \u001B[38;5;21;01mwhisper\u001B[39;00m\n\u001B[1;32m      4\u001B[0m model \u001B[38;5;241m-\u001B[39m whisper\u001B[38;5;241m.\u001B[39mload_model(\u001B[38;5;124m\"\u001B[39m\u001B[38;5;124mbase\u001B[39m\u001B[38;5;124m\"\u001B[39m)\n\u001B[1;32m      5\u001B[0m audio_stream \u001B[38;5;241m=\u001B[39m generate(\n\u001B[1;32m      6\u001B[0m   text\u001B[38;5;241m=\u001B[39m\u001B[38;5;124m\"\u001B[39m\u001B[38;5;124mThis is a... streaming voice!!\u001B[39m\u001B[38;5;124m\"\u001B[39m,\n\u001B[1;32m      7\u001B[0m   stream\u001B[38;5;241m=\u001B[39m\u001B[38;5;28;01mTrue\u001B[39;00m\n\u001B[1;32m      8\u001B[0m )\n",
      "\u001B[0;31mModuleNotFoundError\u001B[0m: No module named 'whisper'"
     ]
    }
   ],
   "source": [
    "from elevenlabs import generate, stream\n",
    "\n",
    "audio_stream = generate(\n",
    "  text=\"This is a... streaming voice!!\",\n",
    "  stream=True\n",
    ")\n",
    "\n",
    "stream(audio_stream)"
   ]
  }
 ],
 "metadata": {
  "kernelspec": {
   "display_name": "Python 3",
   "language": "python",
   "name": "python3"
  },
  "language_info": {
   "codemirror_mode": {
    "name": "ipython",
    "version": 2
   },
   "file_extension": ".py",
   "mimetype": "text/x-python",
   "name": "python",
   "nbconvert_exporter": "python",
   "pygments_lexer": "ipython2",
   "version": "2.7.6"
  }
 },
 "nbformat": 4,
 "nbformat_minor": 5
}
